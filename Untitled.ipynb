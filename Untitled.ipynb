{
 "cells": [
  {
   "cell_type": "code",
   "execution_count": 1,
   "metadata": {},
   "outputs": [],
   "source": [
    "from bokeh.plotting import figure, show\n",
    "from bokeh.models import ColumnDataSource, Column\n",
    "import numpy as np\n",
    "%matplotlib inline\n",
    "\n",
    "display_data= ColumnDataSource({'data' : [np.random.randn(50,50)]})\n",
    "\n",
    "bound = 50\n",
    "\n",
    "d = figure(title='Display', plot_width=350, plot_height=350,\n",
    "              tools='pan,wheel_zoom,box_select,reset',x_range=(0, bound), y_range=(0, bound))\n",
    "\n",
    "d.image('data', source=display_data,\n",
    "         x=0, y=0, dw=bound, dh=bound,\n",
    "         palette=\"Viridis256\")"
   ]
  },
  {
   "cell_type": "code",
   "execution_count": 23,
   "metadata": {},
   "outputs": [],
   "source": [
    "show(d)"
   ]
  },
  {
   "cell_type": "code",
   "execution_count": null,
   "metadata": {},
   "outputs": [],
   "source": [
    "# now setting up a colorbar"
   ]
  },
  {
   "cell_type": "code",
   "execution_count": 9,
   "metadata": {
    "collapsed": true
   },
   "outputs": [],
   "source": [
    "# prepare some data\n",
    "x = [1, 2, 3, 4, 5]\n",
    "y = [6, 7, 2, 4, 5]\n",
    "\n",
    "# create a new plot with a title and axis labels\n",
    "p = figure(title=\"simple line example\", x_axis_label='x', y_axis_label='y')\n",
    "\n",
    "# add a line renderer with legend and line thickness\n",
    "p.line(x, y, legend=\"Temp.\", line_width=2)\n",
    "\n",
    "# show the results\n",
    "show(p)"
   ]
  },
  {
   "cell_type": "code",
   "execution_count": 7,
   "metadata": {},
   "outputs": [],
   "source": [
    "is_source = ColumnDataSource({'Bool' : [True]})"
   ]
  },
  {
   "cell_type": "code",
   "execution_count": 12,
   "metadata": {},
   "outputs": [
    {
     "data": {
      "text/plain": [
       "[True]"
      ]
     },
     "execution_count": 12,
     "metadata": {},
     "output_type": "execute_result"
    }
   ],
   "source": [
    "is_source.data['Bool']"
   ]
  },
  {
   "cell_type": "code",
   "execution_count": 17,
   "metadata": {},
   "outputs": [
    {
     "data": {
      "text/plain": [
       "[5, 6, 7, 8, 9]"
      ]
     },
     "execution_count": 17,
     "metadata": {},
     "output_type": "execute_result"
    }
   ],
   "source": [
    "range(10)[-5:]"
   ]
  },
  {
   "cell_type": "code",
   "execution_count": 18,
   "metadata": {},
   "outputs": [],
   "source": [
    "strings = ['cat','dog','boy']"
   ]
  },
  {
   "cell_type": "code",
   "execution_count": 21,
   "metadata": {},
   "outputs": [],
   "source": [
    "super_string = \"\"\n",
    "for string in strings:\n",
    "    super_string+=\"\\n\"\n",
    "    super_string+=string"
   ]
  },
  {
   "cell_type": "code",
   "execution_count": 22,
   "metadata": {},
   "outputs": [
    {
     "name": "stdout",
     "output_type": "stream",
     "text": [
      "\n",
      "cat\n",
      "dog\n",
      "boy\n"
     ]
    }
   ],
   "source": [
    "print super_string"
   ]
  },
  {
   "cell_type": "code",
   "execution_count": 28,
   "metadata": {},
   "outputs": [
    {
     "name": "stdout",
     "output_type": "stream",
     "text": [
      "[1, 2, 3]\n",
      "[]\n"
     ]
    }
   ],
   "source": [
    "lst1 = [1, 2, 3]\n",
    "print lst1\n",
    "del lst1[:]\n",
    "print(lst1)"
   ]
  },
  {
   "cell_type": "code",
   "execution_count": 30,
   "metadata": {},
   "outputs": [],
   "source": [
    "import numpy as np\n",
    "\n",
    "from bokeh.plotting import figure, output_file, show\n",
    "from bokeh.models import LogColorMapper, LogTicker, ColorBar\n",
    "\n",
    "def normal2d(X, Y, sigx=1.0, sigy=1.0, mux=0.0, muy=0.0):\n",
    "    z = (X-mux)**2 / sigx**2 + (Y-muy)**2 / sigy**2\n",
    "    return np.exp(-z/2) / (2 * np.pi * sigx * sigy)\n",
    "\n",
    "X, Y = np.mgrid[-3:3:100j, -2:2:100j]\n",
    "Z = normal2d(X, Y, 0.1, 0.2, 1.0, 1.0) + 0.1*normal2d(X, Y, 1.0, 1.0)\n",
    "image = Z * 1e6\n",
    "\n",
    "color_mapper = LogColorMapper(palette=\"Viridis256\", low=1, high=1e7)\n",
    "\n",
    "plot = figure(x_range=(0,1), y_range=(0,1), toolbar_location=None)\n",
    "plot.image(image=[image], color_mapper=color_mapper,\n",
    "           dh=[1.0], dw=[1.0], x=[0], y=[0])\n",
    "\n",
    "color_bar = ColorBar(color_mapper=color_mapper, ticker=LogTicker(),\n",
    "                     label_standoff=12, border_line_color=None, location=(0,0))\n",
    "\n",
    "plot.add_layout(color_bar, 'right')\n",
    "\n",
    "show(plot)"
   ]
  },
  {
   "cell_type": "code",
   "execution_count": 32,
   "metadata": {},
   "outputs": [
    {
     "data": {
      "text/plain": [
       "9"
      ]
     },
     "execution_count": 32,
     "metadata": {},
     "output_type": "execute_result"
    }
   ],
   "source": [
    "range(10)[-1]"
   ]
  },
  {
   "cell_type": "code",
   "execution_count": 33,
   "metadata": {},
   "outputs": [
    {
     "data": {
      "text/plain": [
       "array([ 0,  2,  4,  6,  8, 10, 12, 14, 16, 18])"
      ]
     },
     "execution_count": 33,
     "metadata": {},
     "output_type": "execute_result"
    }
   ],
   "source": [
    "np.array(range(10))+np.array(range(10))"
   ]
  },
  {
   "cell_type": "code",
   "execution_count": 35,
   "metadata": {},
   "outputs": [
    {
     "data": {
      "text/plain": [
       "[0, 1, 2, 3, 4, 5, 6, 7, 8]"
      ]
     },
     "execution_count": 35,
     "metadata": {},
     "output_type": "execute_result"
    }
   ],
   "source": [
    "range(10)[:-1]"
   ]
  },
  {
   "cell_type": "code",
   "execution_count": 41,
   "metadata": {},
   "outputs": [],
   "source": [
    "import numpy as np\n",
    "\n",
    "theta = np.radians(-30)\n",
    "c, s = np.cos(theta), np.sin(theta)\n",
    "R = np.array(((c,-s), (s, c)))\n"
   ]
  },
  {
   "cell_type": "code",
   "execution_count": 47,
   "metadata": {},
   "outputs": [],
   "source": [
    "def rotate_object(vertices_list, rotation_degrees):\n",
    "    output_vertices = []\n",
    "    theta = np.radians(rotation_degrees)\n",
    "    c, s = np.cos(theta), np.sin(theta)\n",
    "    R = np.array(((c,-s), (s, c)))\n",
    "    for vertex in vertices_list:\n",
    "        output_vertices.append([vertex[0]*c-vertex[1]*s,vertex[0]*s+vertex[1]*c])\n",
    "    return output_vertices"
   ]
  },
  {
   "cell_type": "code",
   "execution_count": 49,
   "metadata": {},
   "outputs": [
    {
     "data": {
      "text/plain": [
       "[[0.7071067811865476, 0.7071067811865475],\n",
       " [-0.7071067811865475, 0.7071067811865476]]"
      ]
     },
     "execution_count": 49,
     "metadata": {},
     "output_type": "execute_result"
    }
   ],
   "source": [
    "rotate_object([[1,0],[0,1]],45)"
   ]
  },
  {
   "cell_type": "code",
   "execution_count": null,
   "metadata": {},
   "outputs": [],
   "source": []
  }
 ],
 "metadata": {
  "kernelspec": {
   "display_name": "Python 2",
   "language": "python",
   "name": "python2"
  },
  "language_info": {
   "codemirror_mode": {
    "name": "ipython",
    "version": 2
   },
   "file_extension": ".py",
   "mimetype": "text/x-python",
   "name": "python",
   "nbconvert_exporter": "python",
   "pygments_lexer": "ipython2",
   "version": "2.7.12"
  }
 },
 "nbformat": 4,
 "nbformat_minor": 2
}
