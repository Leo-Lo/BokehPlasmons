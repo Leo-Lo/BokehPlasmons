{
 "cells": [
  {
   "cell_type": "code",
   "execution_count": null,
   "metadata": {},
   "outputs": [],
   "source": [
    "import PlasmonModeling as PM\n",
    "import numpy as np"
   ]
  },
  {
   "cell_type": "code",
   "execution_count": null,
   "metadata": {},
   "outputs": [],
   "source": [
    "def createRectangle(center, width, height):\n",
    "    return [[-width/2.0+center[0], height/2.0+center[1]],[-width/2.0+center[0], -height/2.0+center[1]],[width/2.0+center[0], -height/2.0+center[1]],[width/2.0+center[0], height/2.0+center[1]]]"
   ]
  },
  {
   "cell_type": "code",
   "execution_count": null,
   "metadata": {},
   "outputs": [],
   "source": [
    "def calculated_centroid(vertices):\n",
    "    x_value, y_value = 0,0\n",
    "    for i in vertices:\n",
    "        x_value += i[0]\n",
    "        y_value += i[1]\n",
    "    \n",
    "    return [x_value/len(vertices),y_value/len(vertices)]\n",
    "    \n",
    "def rotate_object(vertices_list, rotation_degrees):\n",
    "    output_vertices = []\n",
    "    theta = np.radians(rotation_degrees)\n",
    "    c, s = np.cos(theta), np.sin(theta)\n",
    "    R = np.array(((c,-s), (s, c)))\n",
    "    for vertex in vertices_list:\n",
    "        output_vertices.append([vertex[0]*c-vertex[1]*s,vertex[1]*c+vertex[0]*s])\n",
    "    return output_vertices\n",
    "\n",
    "def center_then_rotate(vertices, rotation_degrees):\n",
    "    #First calculate the centroid\n",
    "    centroid = np.array(calculated_centroid(vertices))\n",
    "    #subtract centroid from the points\n",
    "    modified_vertices = [np.array(i)-centroid for i in vertices]\n",
    "    modified_vertices=rotate_object(modified_vertices,rotation_degrees)\n",
    "    modified_vertices = [np.array(i)+centroid for i in modified_vertices]\n",
    "    \n",
    "    return modified_vertices\n",
    "\n",
    "def counter_clockwise_sort(vertices):\n",
    "    centroid=calculated_centroid(rotate_object(vertices,1))\n",
    "    def func(array):\n",
    "        print(array)\n",
    "        return np.arctan(array[1]/array[0])\n",
    "\n",
    "    to_sort=dict(zip(map(func,[np.array(i)-centroid for i in vertices]),vertices))\n",
    "    # print(len(map(func,[np.array(i)-centroid for i in vertices])))\n",
    "    # print(len(vertices))\n",
    "    output=[]\n",
    "    for key in sorted(to_sort):\n",
    "        output.append(to_sort[key])\n",
    "\n",
    "    return output\n",
    "\n",
    "# def generate_permutations(input_list):\n",
    "#     if len(input_list)==0:\n",
    "#         return []\n",
    "#     return generate_permuations_helper(input_list,[[]])\n",
    "    \n",
    "# def generate_permuations_helper(input_list,outputs):\n",
    "#     if len(input_list)==1:\n",
    "#         for i in outputs:\n",
    "#             i.append(input_list[0])\n",
    "#         return outputs\n",
    "    \n",
    "#     for i in outputs:\n",
    "#         i.append(input_list[0])\n",
    "    \n",
    "#     return generate_permuations_helper(input_list[1:],outputs)"
   ]
  },
  {
   "cell_type": "code",
   "execution_count": null,
   "metadata": {},
   "outputs": [],
   "source": [
    "check = PM.RectangularSample(60,100)\n",
    "vertices1=createRectangle([20,50],5,100)\n",
    "vertices2=createRectangle([40,50],5,100)\n",
    "check.placePolygonalReflector(center_then_rotate(vertices1,10))\n",
    "check.placePolygonalReflector(center_then_rotate(vertices2,-10))\n",
    "check.placePolygonalReflector(center_then_rotate(vertices1,-10))\n",
    "check.placePolygonalReflector(center_then_rotate(vertices2,10))\n",
    "check.placeCircularSource(30,50,5)\n",
    "PM.mplot(check.getMesh(density=50))"
   ]
  },
  {
   "cell_type": "code",
   "execution_count": null,
   "metadata": {},
   "outputs": [],
   "source": [
    "sigma = PM.S()\n",
    "omega = PM.O()\n",
    "\n",
    "sigma.set_sigma_values(1.1,10)\n",
    "omega.set_omega_values(1,1)\n",
    "\n",
    "run = check.run(omega,sigma,density = 200, to_plot=True)"
   ]
  },
  {
   "cell_type": "code",
   "execution_count": null,
   "metadata": {},
   "outputs": [],
   "source": [
    "sample = PM.RectangularSample(50,100)\n",
    "\n",
    "#reflectors have to be placed before sources\n",
    "sample.placeRectangularReflector(5,60,40,5,0)\n",
    "sample.placeRectangularSource(5,10,40,5,0)\n",
    "\n",
    "\n",
    "sigma = PM.S()\n",
    "omega = PM.O()\n",
    "\n",
    "sigma.set_sigma_values(1,10)\n",
    "omega.set_omega_values(1,1)\n",
    "\n",
    "# mesh = sample.getMesh(density = 50)\n",
    "# plot(mesh)\n",
    "\n",
    "check1 = sample.run(omega,sigma,density = 200)"
   ]
  },
  {
   "cell_type": "code",
   "execution_count": null,
   "metadata": {},
   "outputs": [],
   "source": [
    "PM.mplot(check1.split(deepcopy = True)[0])"
   ]
  },
  {
   "cell_type": "code",
   "execution_count": null,
   "metadata": {},
   "outputs": [],
   "source": [
    "from dolfin import *\n",
    "import numpy as np\n",
    "editor = MeshEditor()\n",
    "mesh = Mesh()\n",
    "editor.open(mesh, 2, 2)  # top. and geom. dimension are both 2\n",
    "editor.init_vertices(4)  # number of vertices\n",
    "editor.init_cells(2)     # number of cells\n",
    "editor.add_vertex(0, np.array([0.0, 0.0]))\n",
    "editor.add_vertex(1, np.array([1.0, 0.0]))\n",
    "editor.add_vertex(2, np.array([0.0, 1.0]))\n",
    "editor.add_vertex(3, np.array([1.0, 1.0]))\n",
    "editor.add_cell(0, np.array([0, 1, 3], dtype=np.uintp))\n",
    "editor.add_cell(1, np.array([0, 2, 3], dtype=np.uintp))\n",
    "editor.close()\n",
    "plot(mesh)"
   ]
  },
  {
   "cell_type": "code",
   "execution_count": null,
   "metadata": {},
   "outputs": [],
   "source": []
  }
 ],
 "metadata": {
  "kernelspec": {
   "display_name": "Python 3",
   "language": "python",
   "name": "python3"
  },
  "language_info": {
   "codemirror_mode": {
    "name": "ipython",
    "version": 3
   },
   "file_extension": ".py",
   "mimetype": "text/x-python",
   "name": "python",
   "nbconvert_exporter": "python",
   "pygments_lexer": "ipython3",
   "version": "3.7.6"
  }
 },
 "nbformat": 4,
 "nbformat_minor": 2
}
