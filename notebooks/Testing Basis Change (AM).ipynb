{
 "cells": [
  {
   "cell_type": "code",
   "execution_count": null,
   "metadata": {},
   "outputs": [],
   "source": [
    "import AlexEigScattering2 as AES\n",
    "import os,time, h5py\n",
    "import numpy as np\n",
    "import matplotlib.pyplot as plt\n",
    "from common.baseclasses import ArrayWithAxes as AWA\n",
    "\n",
    "basedir=os.path.dirname(\"./\")\n",
    "datadir=\"../sample_eigenbasis_data\"\n",
    "%matplotlib notebook\n"
   ]
  },
  {
   "cell_type": "code",
   "execution_count": null,
   "metadata": {},
   "outputs": [],
   "source": [
    "def load_eigpairs(eigpair_fname):\n",
    "    \"\"\"Normalization by sum always ensures that integration will be like summing, which is\n",
    "    much simpler than keeping track of dx, dy...\"\"\"\n",
    "\n",
    "    global eigpairs\n",
    "    eigpairs = dict()\n",
    "\n",
    "    path=os.path.join(datadir,eigpair_fname)\n",
    "\n",
    "    with h5py.File(path,'r') as f:\n",
    "        for key in list(f.keys()):\n",
    "            eigfunc=np.array(f.get(key))\n",
    "            eigfunc/=np.sqrt(np.sum(np.abs(eigfunc)**2))\n",
    "            eigpairs[float(key)] = AWA(eigfunc,\\\n",
    "                                       axes=[np.linspace(0,1,eigfunc.shape[0]),\\\n",
    "                                             np.linspace(0,1,eigfunc.shape[1])])\n"
   ]
  },
  {
   "cell_type": "code",
   "execution_count": null,
   "metadata": {},
   "outputs": [],
   "source": [
    "def TestScatteringBasisChange(q=44,\\\n",
    "                           E=44*np.exp(1j*2*np.pi*5e-2),\\\n",
    "                           N_sample_eigenbasis=100,\\\n",
    "                           N_tip_eigenbasis = 10):\n",
    "\n",
    "    global Responder,Jmaker,R_alphabeta\n",
    "\n",
    "    Responder=AES.SampleResponse(eigpairs,E=E,N=N_sample_eigenbasis)\n",
    "    xs,ys=Responder.xs,Responder.ys\n",
    "    Jmaker=AES.BesselGenerator(q,xs=xs,ys=ys,\\\n",
    "                               N_tip_eigenbasis=N_tip_eigenbasis)\n",
    "    \n",
    "    betaz_alpha = np.diag((2-.1j)*(np.arange(N_tip_eigenbasis)+1))\n",
    "    #betaz_alpha = np.eye(N_tip_eigenbasis);\n",
    "    Lambdaz_beta = ((1+np.arange(N_tip_eigenbasis))[::-1])\n",
    "\n",
    "    Ps=np.zeros((len(xs),len(ys)))\n",
    "    Rs=np.zeros((len(xs),len(ys)))\n",
    "    last = 0\n",
    "    for i,x0 in enumerate(xs):\n",
    "        for j,y0 in enumerate(ys):\n",
    "            start = time.time()\n",
    "            tip_eigenbasis=Jmaker.GetTipEigenbasis(x0,y0)\n",
    "            R_alphabeta = Responder.GetRAlphaBeta(tip_eigenbasis)\n",
    "            Ps[i,j] = np.sum(np.linalg.inv(betaz_alpha-R_alphabeta).dot(Lambdaz_beta))\n",
    "            Rs[i,j] = np.sum(np.diag(R_alphabeta))\n",
    "            last = AES.Progress(i,len(xs),last)\n",
    "    \n",
    "    return {'P':Ps,'R':Rs}\n",
    "\n"
   ]
  },
  {
   "cell_type": "code",
   "execution_count": null,
   "metadata": {},
   "outputs": [],
   "source": [
    "load_eigpairs(\"UnitSquareMesh_100x100_1000_eigenbasis.h5\")"
   ]
  },
  {
   "cell_type": "code",
   "execution_count": null,
   "metadata": {
    "scrolled": false
   },
   "outputs": [],
   "source": [
    "%%time\n",
    "t1=time.time()\n",
    "d=TestScatteringBasisChange(E=44*np.exp(1j*2*np.pi*5e-2),N_sample_eigenbasis=100,N_tip_eigenbasis=1)\n",
    "print((time.time()-t1)/60)\n",
    "plt.figure()\n",
    "plt.imshow(np.abs(d['P'])); plt.title('P');plt.colorbar()\n",
    "plt.figure()\n",
    "plt.imshow(np.abs(d['R'])); plt.title('R');plt.colorbar()"
   ]
  },
  {
   "cell_type": "code",
   "execution_count": null,
   "metadata": {},
   "outputs": [],
   "source": [
    "%%time\n",
    "t1=time.time()\n",
    "d=TestScatteringBasisChange(E=44*np.exp(1j*2*np.pi*5e-2),N_sample_eigenbasis=100,N_tip_eigenbasis=10)\n",
    "print((time.time()-t1)/60)\n",
    "plt.figure()\n",
    "plt.imshow(np.abs(d['P'])); plt.title('P');plt.colorbar()\n",
    "plt.figure()\n",
    "plt.imshow(np.abs(d['R'])); plt.title('R');plt.colorbar()"
   ]
  },
  {
   "cell_type": "code",
   "execution_count": null,
   "metadata": {
    "scrolled": false
   },
   "outputs": [],
   "source": [
    "#take a look at the tip eigenfunctions we're using...\n",
    "x0,y0=.5,.5\n",
    "basis=Jmaker.GetTipEigenbasis(x0,y0)\n",
    "plt.figure()\n",
    "plt.imshow(np.sum(basis,axis=0));plt.colorbar()\n",
    "\n",
    "for i in range(len(basis)):\n",
    "    plt.figure()\n",
    "    plt.imshow(basis[i])\n",
    "    plt.colorbar()"
   ]
  },
  {
   "cell_type": "code",
   "execution_count": null,
   "metadata": {},
   "outputs": [],
   "source": [
    "%%time\n",
    "d=TestScatteringBasisChange(E=44*np.exp(1j*2*np.pi*5e-2),N_sample_eigenbasis=100,N_tip_eigenbasis=5)\n",
    "plt.figure()\n",
    "plt.imshow(np.abs(d['P'])); plt.title('P');plt.colorbar()\n",
    "plt.figure()\n",
    "plt.imshow(np.abs(d['R'])); plt.title('R');plt.colorbar()"
   ]
  },
  {
   "cell_type": "code",
   "execution_count": null,
   "metadata": {},
   "outputs": [],
   "source": [
    "d=TestScatteringBasisChange(E=2000*np.exp(1j*2*np.pi*3e-2),N_sample_eigenbasis=100,N_tip_eigenbasis=1)\n",
    "plt.figure()\n",
    "plt.imshow(np.abs(d['P'])); plt.title('P');plt.colorbar()\n",
    "plt.figure()\n",
    "plt.imshow(np.abs(d['R'])); plt.title('R');plt.colorbar()"
   ]
  },
  {
   "cell_type": "code",
   "execution_count": null,
   "metadata": {},
   "outputs": [],
   "source": [
    "%%time\n",
    "d=TestScatteringBasisChange(E=2000*np.exp(1j*2*np.pi*3e-2),N_sample_eigenbasis=300,N_tip_eigenbasis=1)\n",
    "plt.figure()\n",
    "plt.imshow(np.abs(d['P'])); plt.title('P');plt.colorbar()\n",
    "plt.figure()\n",
    "plt.imshow(np.abs(d['R'])); plt.title('R');plt.colorbar()"
   ]
  },
  {
   "cell_type": "code",
   "execution_count": null,
   "metadata": {},
   "outputs": [],
   "source": [
    "q=20\n",
    "E=2000*np.exp(1j*2*np.pi*5e-2)\n",
    "N=10\n",
    "Responder=AES.SampleResponse(eigpairs,E=E,N=N)\n",
    "xs,ys=Responder.xs,Responder.ys\n",
    "Jmaker=AES.BesselGenerator(q,xs=xs,ys=ys)"
   ]
  },
  {
   "cell_type": "code",
   "execution_count": null,
   "metadata": {
    "scrolled": true
   },
   "outputs": [],
   "source": [
    "tip_eigenbasis=Jmaker.GetTipEigenbasis(x0=0,y0=0)\n",
    "R_alphabeta = Responder.GetRAlphaBeta(tip_eigenbasis)\n",
    "plt.matshow(abs(R_alphabeta)); colorbar()"
   ]
  },
  {
   "cell_type": "code",
   "execution_count": null,
   "metadata": {},
   "outputs": [],
   "source": [
    "from common import numerics as num\n",
    "qs=[]; eigvals=[]\n",
    "for eigval,eigfunc in zip(Responder.use_eigvals,\\\n",
    "                          Responder.use_eigfuncs):\n",
    "    s=num.Spectrum(num.Spectrum(eigfunc,axis=0),axis=1).folded\n",
    "    fx,fy=s.locate(s.max())[0]\n",
    "    q=2*pi*np.sqrt(fx**2+fy**2)\n",
    "    qs.append(q); eigvals.append(eigval)\n",
    "\n",
    "plt.figure()\n",
    "plt.plot(qs,np.sqrt(eigvals),marker='o')\n",
    "plt.figure();\n",
    "eigfunc.plot()\n"
   ]
  },
  {
   "cell_type": "code",
   "execution_count": null,
   "metadata": {},
   "outputs": [],
   "source": [
    "xs=Jmaker.xs2\n",
    "print(xs.min(),xs.max())"
   ]
  },
  {
   "cell_type": "code",
   "execution_count": null,
   "metadata": {},
   "outputs": [],
   "source": [
    "tip_eigenbasis=Jmaker.GetTipEigenbasis(x0=0.5,y0=0.5)\n",
    "R_alphabeta = Responder.GetRAlphaBeta(tip_eigenbasis)\n",
    "plt.matshow(abs(R_alphabeta)); colorbar()"
   ]
  },
  {
   "cell_type": "code",
   "execution_count": null,
   "metadata": {},
   "outputs": [],
   "source": [
    "basis=Jmaker.GetTipEigenbasis(0,0)\n",
    "print(basis[0].shape,Jmaker.shape)\n",
    "plt.figure();plt.imshow(basis[0]);colorbar()\n",
    "plt.figure();plt.imshow(basis[1])"
   ]
  },
  {
   "cell_type": "code",
   "execution_count": null,
   "metadata": {},
   "outputs": [],
   "source": [
    "plt.figure()\n",
    "plt.matshow(np.abs(Responder.V_nm));colorbar()\n",
    "plt.figure()\n",
    "plt.matshow(np.abs(Responder.D));colorbar()"
   ]
  },
  {
   "cell_type": "code",
   "execution_count": null,
   "metadata": {},
   "outputs": [],
   "source": []
  }
 ],
 "metadata": {
  "kernelspec": {
   "display_name": "Python 3",
   "language": "python",
   "name": "python3"
  },
  "language_info": {
   "codemirror_mode": {
    "name": "ipython",
    "version": 3
   },
   "file_extension": ".py",
   "mimetype": "text/x-python",
   "name": "python",
   "nbconvert_exporter": "python",
   "pygments_lexer": "ipython3",
   "version": "3.7.6"
  }
 },
 "nbformat": 4,
 "nbformat_minor": 2
}
