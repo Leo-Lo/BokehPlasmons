{
 "cells": [
  {
   "cell_type": "code",
   "execution_count": 1,
   "metadata": {},
   "outputs": [],
   "source": [
    "import os,h5py\n",
    "import numpy as np\n",
    "from scipy import special as sp\n",
    "from common.baseclasses import ArrayWithAxes as AWA\n",
    "import matplotlib.pyplot as plt\n"
   ]
  },
  {
   "cell_type": "code",
   "execution_count": 2,
   "metadata": {},
   "outputs": [],
   "source": [
    "def load_eigpairs(basedir=os.path.dirname(\"./\"),eigpair_fname=\"UnitSquareMesh_100x100_1000_eigenbasis.h5\"):\n",
    "    \"\"\"Normalization by sum always ensures that integration will be like summing, which is\n",
    "    much simpler than keeping track of dx, dy...\"\"\"\n",
    "\n",
    "    global eigpairs\n",
    "    eigpairs = dict()\n",
    "\n",
    "    path=os.path.join(basedir,eigpair_fname)\n",
    "\n",
    "    with h5py.File(path,'r') as f:\n",
    "        for key in list(f.keys()):\n",
    "            eigfunc=np.array(f.get(key))\n",
    "            eigfunc/=np.sqrt(np.sum(np.abs(eigfunc)**2))\n",
    "            eigpairs[float(key)] = AWA(eigfunc,\\\n",
    "                                       axes=[np.linspace(0,1,eigfunc.shape[0]),\\\n",
    "                                             np.linspace(0,1,eigfunc.shape[1])])\n"
   ]
  },
  {
   "cell_type": "code",
   "execution_count": 3,
   "metadata": {},
   "outputs": [],
   "source": [
    "class Translator:\n",
    "    \"\"\"\n",
    "        Allows for the translation of the center point of functions within an xy mesh space.\n",
    "        \n",
    "        Works by generating a bessel function on\n",
    "        a much larger xy mesh and then translating/truncating to the\n",
    "        original mesh.  Nothing fancy, but good for performance.\n",
    "    \"\"\"\n",
    "    \n",
    "    \"\"\"\n",
    "        TODO: Something is going on that flips the x and y coordinates when plotting or translating.\n",
    "        \n",
    "        Doesn't make much sense...\n",
    "    \"\"\"\n",
    "\n",
    "    def __init__(self,\n",
    "                 xs=np.linspace(-1,1,101),\n",
    "                 ys=np.linspace(-1,1,101),\n",
    "                 f = lambda x,y: sp.jv(0,np.sqrt(x**2+y**2))):\n",
    "\n",
    "        self.f = f\n",
    "\n",
    "        #Bookkeeping of the coordinate mesh\n",
    "        self.xs,self.ys=xs,ys\n",
    "        self.shape=(len(xs),len(ys))\n",
    "        self.midx=self.xs[self.shape[0]//2]\n",
    "        self.midy=self.ys[self.shape[1]//2]\n",
    "        self.dx=np.max(self.xs)-np.min(self.xs)\n",
    "        self.dy=np.max(self.ys)-np.min(self.ys)\n",
    "\n",
    "        #Make a mesh grid twice bigger in each direction\n",
    "        bigshape=[2*N-1 for N in self.shape]\n",
    "        xs2grid,ys2grid=np.ogrid[-self.dx:+self.dx:bigshape[0]*1j,\n",
    "                                 -self.dy:+self.dy:bigshape[1]*1j]\n",
    "\n",
    "        self.bigF = self.f(xs2grid,ys2grid)\n",
    "\n",
    "    def __call__(self,x0,y0):\n",
    "        shift_by_dx=x0-self.midx\n",
    "        shift_by_dy=y0-self.midy\n",
    "        shift_by_nx=int(self.shape[0]*shift_by_dx/self.dx)\n",
    "        shift_by_ny=int(self.shape[1]*shift_by_dy/self.dy)\n",
    "        newJ=np.roll(np.roll(self.bigF,shift_by_nx,axis=0),\\\n",
    "                     shift_by_ny,axis=1)\n",
    "        output = newJ[self.shape[0]//2:(3*self.shape[0])//2,\\\n",
    "                     self.shape[1]//2:(3*self.shape[1])//2]\n",
    "        return AWA(output,axes=[self.xs,self.ys])\n"
   ]
  },
  {
   "cell_type": "code",
   "execution_count": 4,
   "metadata": {},
   "outputs": [],
   "source": [
    "class TipResponse:\n",
    "    \"\"\"\n",
    "        Abstraction of a tip which can generate excitations\n",
    "\n",
    "        Can output the tip eigenbases and the excitation functions\n",
    "    \"\"\"\n",
    "\n",
    "    def __init__(self, q=20, N_tip_eigenbasis=5):\n",
    "        self.q = 20\n",
    "        self.N_tip_eigenbasis = N_tip_eigenbasis\n",
    "\n",
    "        self.eigenbasis_translators = self._SetEigenbasisTranslators()\n",
    "\n",
    "    def _SetEigenbasisTranslators(self,xs=np.linspace(-1,1,101), ys=np.linspace(-1,1,101)):\n",
    "        tip_eb = []\n",
    "        N = self.N_tip_eigenbasis\n",
    "        for n in range(N):\n",
    "            Q = (2*self.q*(n+1)/(N+1))\n",
    "            exp_prefactor = np.exp(-2*(n+1)/(N+1))\n",
    "            A = exp_prefactor*Q**2\n",
    "\n",
    "            func = lambda x,y: mybessel(A,0,Q,x,y)\n",
    "\n",
    "            tip_eb.append(Translator(xs=xs,ys=ys,f=func))\n",
    "        return tip_eb\n",
    "\n",
    "    def __call__(self,x0,y0):\n",
    "        tip_eb = [t(x0,y0) for t in self.eigenbasis_translators]\n",
    "        return AWA(tip_eb, axes=[None,tip_eb[0].axes[0],tip_eb[0].axes[1]])\n"
   ]
  },
  {
   "cell_type": "code",
   "execution_count": 5,
   "metadata": {},
   "outputs": [],
   "source": [
    "class SampleResponse:\n",
    "    \"\"\"\n",
    "        Generator of sample response based on an input collection of\n",
    "        eigenpairs (dictionary of eigenvalues + eigenfunctions).\n",
    "        \n",
    "        Can output a whole set of sample response functions from\n",
    "        an input set of excitation functions.\n",
    "    \"\"\"\n",
    "\n",
    "    def __init__(self,eigpairs,E,N=100,debug=True):\n",
    "        # Setting the easy stuff\n",
    "        eigvals = list(eigpairs.keys())\n",
    "        eigfuncs = list(eigpairs.values())\n",
    "        self.debug = debug\n",
    "        self.xs,self.ys = eigfuncs[0].axes\n",
    "        self.eigfuncs = AWA(eigfuncs,\\\n",
    "                          axes=[eigvals,self.xs,self.ys]).sort_by_axes()\n",
    "        self.eigvals = self.eigfuncs.axes[0]\n",
    "        self.phishape = self.eigfuncs[0].shape\n",
    "        self.E = E\n",
    "        self.N = N\n",
    "\n",
    "        # Setting the various physical quantities\n",
    "        self._SetUseEigenvalues(E)\n",
    "        self._SetEnergy()\n",
    "        self._SetSigma(10,10)\n",
    "        self._SetCoulombKernel()\n",
    "        self._SetScatteringMatrix()\n",
    "\n",
    "    def _SetEnergy(self):\n",
    "        \"\"\"\n",
    "            TODO: check energy units and sqrt eigenvals\n",
    "        \"\"\"\n",
    "        if self.debug: print('Setting Energy')\n",
    "        self.Phis=np.matrix([eigfunc.ravel() for eigfunc in self.use_eigfuncs])\n",
    "        self.Q = np.diag(self.use_eigvals)\n",
    "        \n",
    "    def _SetUseEigenvalues(self, E):\n",
    "        if self.debug: print('Setting Use Eigenvalues')\n",
    "        index=np.argmin(np.abs(np.sqrt(self.eigvals)-E)) #@ASM2019.12.22 - This is to treat `E` not as the squared eigenvalue, but in units of the eigenvalue (`q_omega)\n",
    "        ind1=np.max([index-self.N//2,0])\n",
    "        ind2=ind1+self.N\n",
    "        if ind2>len(self.eigfuncs):\n",
    "            ind2 = len(self.eigfuncs)\n",
    "            ind1 = ind2-self.N\n",
    "        self.use_eigfuncs=self.eigfuncs[ind1:ind2]\n",
    "        self.use_eigvals=self.eigvals[ind1:ind2]\n",
    "\n",
    "    def _SetSigma(self,L,lamb):\n",
    "        if self.debug: print('Setting Sigma')\n",
    "        \n",
    "        self.sigma = PM.S()\n",
    "        self.sigma.set_sigma_values(lamb, L)\n",
    "        sigma_tilde = self.sigma.get_sigma_values()[0]+1j*self.sigma.get_sigma_values()[1]\n",
    "        self.alpha = -1j*sigma_tilde/np.abs(sigma_tilde)\n",
    "        \n",
    "        \"\"\"\n",
    "            TODO: Do we need to change this? As of 2019.12.21, this was a placeholder\n",
    "        \"\"\"\n",
    "        self.alpha = 1 #@ASM2019.12.21 just for nwo we put the 'complexity' into input `E`, until we get serious about recasting it to `q_omega`\n",
    "\n",
    "    def _SetCoulombKernel(self):\n",
    "        \"\"\"\n",
    "            TODO: I hacked this together in some crazy way to force multiprocessing.Pool to work...\n",
    "                    Needs to be understood and fixed\n",
    "        \"\"\"\n",
    "        if debug: print('Setting Kernel')\n",
    "        self.V_nm = np.zeros([len(self.use_eigvals), len(self.use_eigvals)])\n",
    "        eigfuncs = self.use_eigfuncs\n",
    "        kern_func = lambda x,y: 1/np.sqrt(x**2+y**2+1e-4)\n",
    "        global myQC\n",
    "        size=(self.xs.max()-self.xs.min(),self.ys.max()-self.ys.min())\n",
    "        myQC=numrec.QuickConvolver(size=size,kernel_function=kern_func,\\\n",
    "                                   shape=eigfuncs[0].shape,pad_by=.5,pad_with=0)\n",
    "        p = mp.Pool(8)\n",
    "        self.V_nm = np.array(p.starmap(Calc,product(eigfuncs,eigfuncs))).reshape((self.N,self.N))\n",
    "\n",
    "    def _SetScatteringMatrix(self):\n",
    "        if debug: print('Setting Scattering Matrix')\n",
    "        self.D = self.E*np.linalg.inv(self.E*np.identity(self.Q.shape[0]) - self.alpha*self.Q.dot(self.V_nm))\n",
    "\n",
    "    def GetRAlphaBeta(self,tip_eigenbasis):\n",
    "        t1=time.time()\n",
    "        Psi=np.matrix([eigfunc.ravel() for eigfunc in tip_eigenbasis]) #Only have to unravel sample eigenfunctions once (twice speed-up)\n",
    "        U=Psi*self.Phis.T\n",
    "        U_inv = np.linalg.pinv(U) #@ASM2019.12.21 good to use inverse, since tip-basis may not be orthogonal\n",
    "        result=np.dot(U,np.dot(self.D,U_inv))\n",
    "        return result\n",
    "\n",
    "    def __call__(self,excitations,U,tip_eigenbasis):\n",
    "        if np.array(excitations).ndim==2: excitations=[excitations]\n",
    "        Exc=np.array([exc.ravel() for exc in excitations])\n",
    "        tip_eb=np.matrix([eigfunc.ravel() for eigfunc in tip_eigenbasis])\n",
    "        projected_result=np.dot(tip_eb.T,\n",
    "                            np.dot(U,\\\n",
    "                                np.dot(self.D,\\\n",
    "                                    np.dot(self.Phis,Exc.T))))\n",
    "        #plt.figure();plt.imshow(np.abs(result.reshape(101,101)));plt.show()\n",
    "\n",
    "        #These are all the matrices that get multiplied, take a look that shapes work...\n",
    "        #print([item.shape for item in [self.Phis.T,self.D,self.Phis,Exc.T]])\n",
    "        #result is in form of column vectors\n",
    "        #turn into row vectors then reshape\n",
    "        result=np.dot(self.Phis.T,\\\n",
    "                       np.dot(self.D,\\\n",
    "                             np.dot(self.Phis,Exc.T)))\n",
    "        result=np.array(result).T.reshape((len(excitations),)+self.phishape)\n",
    "        projected_result=np.array(projected_result).T.reshape((len(excitations),)+self.phishape)\n",
    "        return AWA(result,axes=[None,self.xs,self.ys]).squeeze(), AWA(projected_result,axes=[None,self.xs,self.ys]).squeeze()"
   ]
  },
  {
   "cell_type": "code",
   "execution_count": 6,
   "metadata": {},
   "outputs": [],
   "source": [
    "def mybessel(v,A,Q,x,y):\n",
    "    r = np.sqrt(x**2+y**2)\n",
    "    theta = np.arctan2(x,y)\n",
    "    return A*sp.jv(v,Q*r)\n",
    "\n",
    "def planewave(qx,qy,x,y):\n",
    "    return np.sin(qx*x+qy*y)\n",
    "\n",
    "def spherical_harmonic(m,n,x,y):\n",
    "    theta = np.arctan2(x,y)\n",
    "    phi = np.pi/4\n",
    "    return sp.sph_harm(m,n,phi,theta)"
   ]
  },
  {
   "cell_type": "code",
   "execution_count": 13,
   "metadata": {
    "scrolled": false
   },
   "outputs": [],
   "source": [
    "def TestTranslator():\n",
    "    N=5\n",
    "    q=20\n",
    "\n",
    "    for n in range(0,N):\n",
    "        q_prefactor = (2*q*(n+1)/(N+1))**2\n",
    "        exp_prefactor = np.exp(-2*(n+1)/(N+1))\n",
    "        A = q_prefactor*exp_prefactor\n",
    "        Q = (2*q*(n+1)/(N+1))\n",
    "\n",
    "        #func = lambda x,y: np.real(spherical_harmonic(0,n,x,y))\n",
    "        #func = lambda x,y: mybessel(0,A,Q,x,y)\n",
    "        func = lambda x,y: planewave(0,2,x,y)\n",
    "\n",
    "        gen = Translator(xs=np.linspace(-1,1,101), ys=np.linspace(-1,1,101),f=func)\n",
    "        plt.figure()\n",
    "        plt.imshow(gen(0,0.2*n), extent = [-1,1,-1,1], origin='bottom')\n",
    "        plt.show()"
   ]
  },
  {
   "cell_type": "code",
   "execution_count": 15,
   "metadata": {},
   "outputs": [],
   "source": [
    "def TestScatteringBasisChange(q=44,\\\n",
    "                           E=44*np.exp(1j*2*np.pi*5e-2),\\\n",
    "                           N_sample_eigenbasis=100,\\\n",
    "                           N_tip_eigenbasis = 10):\n",
    "\n",
    "    global Responder,Tip,R_alphabeta\n",
    "\n",
    "    Responder = SampleResponse(eigpairs,E=E,N=N_sample_eigenbasis)\n",
    "    xs,ys = Responder.xs,Responder.ys\n",
    "    Tip = TipResponse()\n",
    "    \n",
    "    betaz_alpha = np.diag((2-.1j)*(np.arange(N_tip_eigenbasis)+1))\n",
    "    Lambdaz_beta = ((1+np.arange(N_tip_eigenbasis))[::-1])\n",
    "\n",
    "    Ps=np.zeros((len(xs),len(ys)))\n",
    "    Rs=np.zeros((len(xs),len(ys)))\n",
    "    last = 0\n",
    "    for i,x0 in enumerate(xs):\n",
    "        for j,y0 in enumerate(ys):\n",
    "            start = time.time()\n",
    "            tip_eigenbasis = Tip(x0,y0)\n",
    "            R_alphabeta = Responder.GetRAlphaBeta(tip_eigenbasis)\n",
    "            if i==0 and j==0:\n",
    "                plt.figure()\n",
    "                plt.imshow(np.abs(R_alphabeta))\n",
    "                plt.show()\n",
    "            Ps[i,j] = np.sum(np.linalg.inv(betaz_alpha-R_alphabeta).dot(Lambdaz_beta))\n",
    "            Rs[i,j] = np.sum(np.diag(R_alphabeta))/N_tip_eigenbasis\n",
    "            last = AES.Progress(i,len(xs),last)\n",
    "    \n",
    "    return {'P':Ps,'R':Rs}\n"
   ]
  },
  {
   "cell_type": "code",
   "execution_count": 16,
   "metadata": {
    "scrolled": true
   },
   "outputs": [
    {
     "name": "stdout",
     "output_type": "stream",
     "text": [
      "Setting Use Eigenvalues\n",
      "Setting Energy\n",
      "Setting Sigma\n"
     ]
    },
    {
     "ename": "NameError",
     "evalue": "name 'PM' is not defined",
     "output_type": "error",
     "traceback": [
      "\u001b[0;31m---------------------------------------------------------------------------\u001b[0m",
      "\u001b[0;31mNameError\u001b[0m                                 Traceback (most recent call last)",
      "\u001b[0;32m<ipython-input-16-0d1710358a40>\u001b[0m in \u001b[0;36m<module>\u001b[0;34m\u001b[0m\n\u001b[1;32m      1\u001b[0m \u001b[0mload_eigpairs\u001b[0m\u001b[0;34m(\u001b[0m\u001b[0mbasedir\u001b[0m\u001b[0;34m=\u001b[0m\u001b[0;34m\"/home/meberko/Projects/BokehPlasmons/sample_eigenbasis_data\"\u001b[0m\u001b[0;34m)\u001b[0m\u001b[0;34m\u001b[0m\u001b[0;34m\u001b[0m\u001b[0m\n\u001b[0;32m----> 2\u001b[0;31m \u001b[0mTestScatteringBasisChange\u001b[0m\u001b[0;34m(\u001b[0m\u001b[0;34m)\u001b[0m\u001b[0;34m\u001b[0m\u001b[0;34m\u001b[0m\u001b[0m\n\u001b[0m",
      "\u001b[0;32m<ipython-input-15-16897a4d1f33>\u001b[0m in \u001b[0;36mTestScatteringBasisChange\u001b[0;34m(q, E, N_sample_eigenbasis, N_tip_eigenbasis)\u001b[0m\n\u001b[1;32m      6\u001b[0m     \u001b[0;32mglobal\u001b[0m \u001b[0mResponder\u001b[0m\u001b[0;34m,\u001b[0m\u001b[0mTip\u001b[0m\u001b[0;34m,\u001b[0m\u001b[0mR_alphabeta\u001b[0m\u001b[0;34m\u001b[0m\u001b[0;34m\u001b[0m\u001b[0m\n\u001b[1;32m      7\u001b[0m \u001b[0;34m\u001b[0m\u001b[0m\n\u001b[0;32m----> 8\u001b[0;31m     \u001b[0mResponder\u001b[0m \u001b[0;34m=\u001b[0m \u001b[0mSampleResponse\u001b[0m\u001b[0;34m(\u001b[0m\u001b[0meigpairs\u001b[0m\u001b[0;34m,\u001b[0m\u001b[0mE\u001b[0m\u001b[0;34m=\u001b[0m\u001b[0mE\u001b[0m\u001b[0;34m,\u001b[0m\u001b[0mN\u001b[0m\u001b[0;34m=\u001b[0m\u001b[0mN_sample_eigenbasis\u001b[0m\u001b[0;34m)\u001b[0m\u001b[0;34m\u001b[0m\u001b[0;34m\u001b[0m\u001b[0m\n\u001b[0m\u001b[1;32m      9\u001b[0m     \u001b[0mxs\u001b[0m\u001b[0;34m,\u001b[0m\u001b[0mys\u001b[0m \u001b[0;34m=\u001b[0m \u001b[0mResponder\u001b[0m\u001b[0;34m.\u001b[0m\u001b[0mxs\u001b[0m\u001b[0;34m,\u001b[0m\u001b[0mResponder\u001b[0m\u001b[0;34m.\u001b[0m\u001b[0mys\u001b[0m\u001b[0;34m\u001b[0m\u001b[0;34m\u001b[0m\u001b[0m\n\u001b[1;32m     10\u001b[0m     \u001b[0mTip\u001b[0m \u001b[0;34m=\u001b[0m \u001b[0mTipResponse\u001b[0m\u001b[0;34m(\u001b[0m\u001b[0;34m)\u001b[0m\u001b[0;34m\u001b[0m\u001b[0;34m\u001b[0m\u001b[0m\n",
      "\u001b[0;32m<ipython-input-12-a6213d582c7e>\u001b[0m in \u001b[0;36m__init__\u001b[0;34m(self, eigpairs, E, N, debug)\u001b[0m\n\u001b[1;32m     24\u001b[0m         \u001b[0mself\u001b[0m\u001b[0;34m.\u001b[0m\u001b[0m_SetUseEigenvalues\u001b[0m\u001b[0;34m(\u001b[0m\u001b[0mE\u001b[0m\u001b[0;34m)\u001b[0m\u001b[0;34m\u001b[0m\u001b[0;34m\u001b[0m\u001b[0m\n\u001b[1;32m     25\u001b[0m         \u001b[0mself\u001b[0m\u001b[0;34m.\u001b[0m\u001b[0m_SetEnergy\u001b[0m\u001b[0;34m(\u001b[0m\u001b[0;34m)\u001b[0m\u001b[0;34m\u001b[0m\u001b[0;34m\u001b[0m\u001b[0m\n\u001b[0;32m---> 26\u001b[0;31m         \u001b[0mself\u001b[0m\u001b[0;34m.\u001b[0m\u001b[0m_SetSigma\u001b[0m\u001b[0;34m(\u001b[0m\u001b[0;36m10\u001b[0m\u001b[0;34m,\u001b[0m\u001b[0;36m10\u001b[0m\u001b[0;34m)\u001b[0m\u001b[0;34m\u001b[0m\u001b[0;34m\u001b[0m\u001b[0m\n\u001b[0m\u001b[1;32m     27\u001b[0m         \u001b[0mself\u001b[0m\u001b[0;34m.\u001b[0m\u001b[0m_SetCoulombKernel\u001b[0m\u001b[0;34m(\u001b[0m\u001b[0;34m)\u001b[0m\u001b[0;34m\u001b[0m\u001b[0;34m\u001b[0m\u001b[0m\n\u001b[1;32m     28\u001b[0m         \u001b[0mself\u001b[0m\u001b[0;34m.\u001b[0m\u001b[0m_SetScatteringMatrix\u001b[0m\u001b[0;34m(\u001b[0m\u001b[0;34m)\u001b[0m\u001b[0;34m\u001b[0m\u001b[0;34m\u001b[0m\u001b[0m\n",
      "\u001b[0;32m<ipython-input-12-a6213d582c7e>\u001b[0m in \u001b[0;36m_SetSigma\u001b[0;34m(self, L, lamb)\u001b[0m\n\u001b[1;32m     50\u001b[0m         \u001b[0;32mif\u001b[0m \u001b[0mself\u001b[0m\u001b[0;34m.\u001b[0m\u001b[0mdebug\u001b[0m\u001b[0;34m:\u001b[0m \u001b[0mprint\u001b[0m\u001b[0;34m(\u001b[0m\u001b[0;34m'Setting Sigma'\u001b[0m\u001b[0;34m)\u001b[0m\u001b[0;34m\u001b[0m\u001b[0;34m\u001b[0m\u001b[0m\n\u001b[1;32m     51\u001b[0m \u001b[0;34m\u001b[0m\u001b[0m\n\u001b[0;32m---> 52\u001b[0;31m         \u001b[0mself\u001b[0m\u001b[0;34m.\u001b[0m\u001b[0msigma\u001b[0m \u001b[0;34m=\u001b[0m \u001b[0mPM\u001b[0m\u001b[0;34m.\u001b[0m\u001b[0mS\u001b[0m\u001b[0;34m(\u001b[0m\u001b[0;34m)\u001b[0m\u001b[0;34m\u001b[0m\u001b[0;34m\u001b[0m\u001b[0m\n\u001b[0m\u001b[1;32m     53\u001b[0m         \u001b[0mself\u001b[0m\u001b[0;34m.\u001b[0m\u001b[0msigma\u001b[0m\u001b[0;34m.\u001b[0m\u001b[0mset_sigma_values\u001b[0m\u001b[0;34m(\u001b[0m\u001b[0mlamb\u001b[0m\u001b[0;34m,\u001b[0m \u001b[0mL\u001b[0m\u001b[0;34m)\u001b[0m\u001b[0;34m\u001b[0m\u001b[0;34m\u001b[0m\u001b[0m\n\u001b[1;32m     54\u001b[0m         \u001b[0msigma_tilde\u001b[0m \u001b[0;34m=\u001b[0m \u001b[0mself\u001b[0m\u001b[0;34m.\u001b[0m\u001b[0msigma\u001b[0m\u001b[0;34m.\u001b[0m\u001b[0mget_sigma_values\u001b[0m\u001b[0;34m(\u001b[0m\u001b[0;34m)\u001b[0m\u001b[0;34m[\u001b[0m\u001b[0;36m0\u001b[0m\u001b[0;34m]\u001b[0m\u001b[0;34m+\u001b[0m\u001b[0;36m1j\u001b[0m\u001b[0;34m*\u001b[0m\u001b[0mself\u001b[0m\u001b[0;34m.\u001b[0m\u001b[0msigma\u001b[0m\u001b[0;34m.\u001b[0m\u001b[0mget_sigma_values\u001b[0m\u001b[0;34m(\u001b[0m\u001b[0;34m)\u001b[0m\u001b[0;34m[\u001b[0m\u001b[0;36m1\u001b[0m\u001b[0;34m]\u001b[0m\u001b[0;34m\u001b[0m\u001b[0;34m\u001b[0m\u001b[0m\n",
      "\u001b[0;31mNameError\u001b[0m: name 'PM' is not defined"
     ]
    }
   ],
   "source": [
    "load_eigpairs(basedir=\"/home/meberko/Projects/BokehPlasmons/sample_eigenbasis_data\")\n",
    "TestScatteringBasisChange()"
   ]
  },
  {
   "cell_type": "code",
   "execution_count": 14,
   "metadata": {
    "scrolled": false
   },
   "outputs": [
    {
     "data": {
      "image/png": "[encoded data removed]",
      "text/plain": [
       "<Figure size 432x288 with 1 Axes>"
      ]
     },
     "metadata": {
      "needs_background": "light"
     },
     "output_type": "display_data"
    },
    {
     "data": {
      "image/png": "[encoded data removed]",
      "text/plain": [
       "<Figure size 432x288 with 1 Axes>"
      ]
     },
     "metadata": {
      "needs_background": "light"
     },
     "output_type": "display_data"
    },
    {
     "data": {
      "image/png": "[encoded data removed]",
      "text/plain": [
       "<Figure size 432x288 with 1 Axes>"
      ]
     },
     "metadata": {
      "needs_background": "light"
     },
     "output_type": "display_data"
    },
    {
     "data": {
      "image/png": "[encoded data removed]",
      "text/plain": [
       "<Figure size 432x288 with 1 Axes>"
      ]
     },
     "metadata": {
      "needs_background": "light"
     },
     "output_type": "display_data"
    },
    {
     "data": {
      "image/png": "[encoded data removed]",
      "text/plain": [
       "<Figure size 432x288 with 1 Axes>"
      ]
     },
     "metadata": {
      "needs_background": "light"
     },
     "output_type": "display_data"
    }
   ],
   "source": [
    "TestTranslator()"
   ]
  },
  {
   "cell_type": "code",
   "execution_count": null,
   "metadata": {},
   "outputs": [],
   "source": []
  }
 ],
 "metadata": {
  "kernelspec": {
   "display_name": "Python 3",
   "language": "python",
   "name": "python3"
  },
  "language_info": {
   "codemirror_mode": {
    "name": "ipython",
    "version": 3
   },
   "file_extension": ".py",
   "mimetype": "text/x-python",
   "name": "python",
   "nbconvert_exporter": "python",
   "pygments_lexer": "ipython3",
   "version": "3.7.3"
  }
 },
 "nbformat": 4,
 "nbformat_minor": 2
}
