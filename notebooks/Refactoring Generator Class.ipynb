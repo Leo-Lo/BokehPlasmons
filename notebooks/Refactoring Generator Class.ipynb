{
 "cells": [
  {
   "cell_type": "code",
   "execution_count": null,
   "metadata": {},
   "outputs": [],
   "source": [
    "import numpy as np\n",
    "import scipy.special as sp\n",
    "import matplotlib.pyplot as plt\n",
    "import matplotlib.animation as animation\n",
    "from common import numerical_recipes as numrec\n",
    "from common.baseclasses import ArrayWithAxes as AWA\n",
    "from IPython.display import HTML\n",
    "\n",
    "%matplotlib notebook"
   ]
  },
  {
   "cell_type": "code",
   "execution_count": null,
   "metadata": {},
   "outputs": [],
   "source": [
    "class BesselGenerator():\n",
    "\n",
    "    \"\"\"\n",
    "    Generator of Bessel functions placed at arbitrary \"center\" position\n",
    "    within an xy mesh space.  Works by generating a bessel function on\n",
    "    a much larger xy mesh and then translating/truncating to the\n",
    "    original mesh.  Nothing fancy, but good for performance.\n",
    "    \"\"\"\n",
    "\n",
    "    def __init__(self,func,q=20,\\\n",
    "                 xs=np.linspace(-1,1,101),\\\n",
    "                 ys=np.linspace(-1,1,101),\\\n",
    "                 N_tip_eigenbasis = 10,\n",
    "                 radial=True,\n",
    "                 debug = True):\n",
    "\n",
    "        #Bookkeeping of the coordinate mesh\n",
    "        self.func = func\n",
    "        self.xs,self.ys=xs,ys\n",
    "        self.shape=(len(xs),len(ys))\n",
    "        self.midx=self.xs[self.shape[0]//2]\n",
    "        self.midy=self.ys[self.shape[1]//2]\n",
    "        self.dx=np.max(self.xs)-np.min(self.xs)\n",
    "        self.dy=np.max(self.ys)-np.min(self.ys)\n",
    "        if debug:\n",
    "            print(\"midx: {}\\nmidy: {}\\ndx: {}\\ndy: {}\".format(self.midx, self.midy, self.dx, self.dy))\n",
    "        \n",
    "        #Make a mesh grid twice bigger in each direction\n",
    "        bigshape=[2*N-1 for N in self.shape]\n",
    "        xs2grid,ys2grid=np.ogrid[-self.dx:+self.dx:bigshape[0]*1j,\n",
    "                                 -self.dy:+self.dy:bigshape[1]*1j]\n",
    "        self.xs2=xs2grid.squeeze()\n",
    "        self.ys2=ys2grid.squeeze()\n",
    "\n",
    "        rs2 = np.sqrt(xs2grid**2+ys2grid**2)\n",
    "        if debug:\n",
    "            print(\"rs2: {}\".format(rs2))\n",
    "        if radial:\n",
    "            self.bigJ = self.func(q*rs2)\n",
    "        else:\n",
    "            self.bigJ = self.func(xs2grid,ys2grid)\n",
    "\n",
    "    def __call__(self,x0,y0):\n",
    "\n",
    "        #@ASM2019.12.21 There were previously some bugs here\n",
    "        #The center of our function is presently (midx,midy)\n",
    "        shift_by_dx=x0-self.midx\n",
    "        shift_by_dy=y0-self.midy\n",
    "        shift_by_nx=int(self.shape[0]*shift_by_dx/self.dx)\n",
    "        shift_by_ny=int(self.shape[1]*shift_by_dy/self.dy)\n",
    "\n",
    "        newJ=np.roll(np.roll(self.bigJ,shift_by_nx,axis=1),\\\n",
    "                     shift_by_ny,axis=0)\n",
    "        output = newJ[self.shape[0]//2:(3*self.shape[0])//2,\\\n",
    "                     self.shape[1]//2:(3*self.shape[1])//2]\n",
    "        return AWA(output,axes=[self.xs,self.ys])\n"
   ]
  },
  {
   "cell_type": "code",
   "execution_count": null,
   "metadata": {},
   "outputs": [],
   "source": [
    "def Bessel(n):\n",
    "    return lambda r: sp.jv(n,r)\n",
    "def PlaneWave(kx,ky):\n",
    "    return lambda x,y: np.sin(kx*x+ky*y)\n",
    "gen = BesselGenerator(Bessel(0), debug=False)\n",
    "#gen = BesselGenerator(PlaneWave(1,10), radial=False, debug=False)\n",
    "#plt.figure()\n",
    "#plt.imshow(gen(0,0), extent = [-1,1,-1,1])"
   ]
  },
  {
   "cell_type": "code",
   "execution_count": null,
   "metadata": {
    "scrolled": false
   },
   "outputs": [],
   "source": [
    "x0,y0 = -1,-1\n",
    "curr = gen(x0,y0)\n",
    "extent=[curr.axes[0].min(),curr.axes[1].max(),curr.axes[1].min(),curr.axes[1].max()]\n",
    "fig = plt.figure()\n",
    "im = plt.imshow(curr, extent=extent)\n",
    "\n",
    "# initialization function: plot the background of each frame\n",
    "def init():\n",
    "    im.set_data(curr)\n",
    "    return [im]\n",
    "\n",
    "# animation function.  This is called sequentially\n",
    "def animate(i):\n",
    "    x0 =  (i/50)%2-1\n",
    "    y0 = (((i/50)//2)/10-1)%2-1\n",
    "    im.set_array(gen(x0,y0))\n",
    "    return [im]\n",
    "\n",
    "#anim = animation.FuncAnimation(fig, animate, init_func=init,frames=10000, interval=1, blit=True)\n",
    "\n",
    "#HTML(anim.to_html5_video())\n",
    "\n"
   ]
  },
  {
   "cell_type": "code",
   "execution_count": null,
   "metadata": {},
   "outputs": [],
   "source": []
  }
 ],
 "metadata": {
  "kernelspec": {
   "display_name": "Python 3",
   "language": "python",
   "name": "python3"
  },
  "language_info": {
   "codemirror_mode": {
    "name": "ipython",
    "version": 3
   },
   "file_extension": ".py",
   "mimetype": "text/x-python",
   "name": "python",
   "nbconvert_exporter": "python",
   "pygments_lexer": "ipython3",
   "version": "3.7.6"
  }
 },
 "nbformat": 4,
 "nbformat_minor": 2
}
